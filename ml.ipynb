{
  "nbformat": 4,
  "nbformat_minor": 0,
  "metadata": {
    "colab": {
      "provenance": [],
      "authorship_tag": "ABX9TyP9uoAZijGvVGlKTUspI7qg",
      "include_colab_link": true
    },
    "kernelspec": {
      "name": "python3",
      "display_name": "Python 3"
    },
    "language_info": {
      "name": "python"
    }
  },
  "cells": [
    {
      "cell_type": "markdown",
      "metadata": {
        "id": "view-in-github",
        "colab_type": "text"
      },
      "source": [
        "<a href=\"https://colab.research.google.com/github/saisrireddy/University-Class-Scheduling/blob/main/ml.ipynb\" target=\"_parent\"><img src=\"https://colab.research.google.com/assets/colab-badge.svg\" alt=\"Open In Colab\"/></a>"
      ]
    },
    {
      "cell_type": "code",
      "execution_count": null,
      "metadata": {
        "colab": {
          "base_uri": "https://localhost:8080/",
          "height": 246
        },
        "id": "krzUO1Ls6i6R",
        "outputId": "000c1349-16ab-4134-d4be-0e555bea4525"
      },
      "outputs": [
        {
          "output_type": "display_data",
          "data": {
            "text/plain": [
              "<IPython.core.display.HTML object>"
            ],
            "text/html": [
              "\n",
              "     <input type=\"file\" id=\"files-ca238cbc-2bac-4123-a28a-e9b8486ddb56\" name=\"files[]\" multiple disabled\n",
              "        style=\"border:none\" />\n",
              "     <output id=\"result-ca238cbc-2bac-4123-a28a-e9b8486ddb56\">\n",
              "      Upload widget is only available when the cell has been executed in the\n",
              "      current browser session. Please rerun this cell to enable.\n",
              "      </output>\n",
              "      <script>// Copyright 2017 Google LLC\n",
              "//\n",
              "// Licensed under the Apache License, Version 2.0 (the \"License\");\n",
              "// you may not use this file except in compliance with the License.\n",
              "// You may obtain a copy of the License at\n",
              "//\n",
              "//      http://www.apache.org/licenses/LICENSE-2.0\n",
              "//\n",
              "// Unless required by applicable law or agreed to in writing, software\n",
              "// distributed under the License is distributed on an \"AS IS\" BASIS,\n",
              "// WITHOUT WARRANTIES OR CONDITIONS OF ANY KIND, either express or implied.\n",
              "// See the License for the specific language governing permissions and\n",
              "// limitations under the License.\n",
              "\n",
              "/**\n",
              " * @fileoverview Helpers for google.colab Python module.\n",
              " */\n",
              "(function(scope) {\n",
              "function span(text, styleAttributes = {}) {\n",
              "  const element = document.createElement('span');\n",
              "  element.textContent = text;\n",
              "  for (const key of Object.keys(styleAttributes)) {\n",
              "    element.style[key] = styleAttributes[key];\n",
              "  }\n",
              "  return element;\n",
              "}\n",
              "\n",
              "// Max number of bytes which will be uploaded at a time.\n",
              "const MAX_PAYLOAD_SIZE = 100 * 1024;\n",
              "\n",
              "function _uploadFiles(inputId, outputId) {\n",
              "  const steps = uploadFilesStep(inputId, outputId);\n",
              "  const outputElement = document.getElementById(outputId);\n",
              "  // Cache steps on the outputElement to make it available for the next call\n",
              "  // to uploadFilesContinue from Python.\n",
              "  outputElement.steps = steps;\n",
              "\n",
              "  return _uploadFilesContinue(outputId);\n",
              "}\n",
              "\n",
              "// This is roughly an async generator (not supported in the browser yet),\n",
              "// where there are multiple asynchronous steps and the Python side is going\n",
              "// to poll for completion of each step.\n",
              "// This uses a Promise to block the python side on completion of each step,\n",
              "// then passes the result of the previous step as the input to the next step.\n",
              "function _uploadFilesContinue(outputId) {\n",
              "  const outputElement = document.getElementById(outputId);\n",
              "  const steps = outputElement.steps;\n",
              "\n",
              "  const next = steps.next(outputElement.lastPromiseValue);\n",
              "  return Promise.resolve(next.value.promise).then((value) => {\n",
              "    // Cache the last promise value to make it available to the next\n",
              "    // step of the generator.\n",
              "    outputElement.lastPromiseValue = value;\n",
              "    return next.value.response;\n",
              "  });\n",
              "}\n",
              "\n",
              "/**\n",
              " * Generator function which is called between each async step of the upload\n",
              " * process.\n",
              " * @param {string} inputId Element ID of the input file picker element.\n",
              " * @param {string} outputId Element ID of the output display.\n",
              " * @return {!Iterable<!Object>} Iterable of next steps.\n",
              " */\n",
              "function* uploadFilesStep(inputId, outputId) {\n",
              "  const inputElement = document.getElementById(inputId);\n",
              "  inputElement.disabled = false;\n",
              "\n",
              "  const outputElement = document.getElementById(outputId);\n",
              "  outputElement.innerHTML = '';\n",
              "\n",
              "  const pickedPromise = new Promise((resolve) => {\n",
              "    inputElement.addEventListener('change', (e) => {\n",
              "      resolve(e.target.files);\n",
              "    });\n",
              "  });\n",
              "\n",
              "  const cancel = document.createElement('button');\n",
              "  inputElement.parentElement.appendChild(cancel);\n",
              "  cancel.textContent = 'Cancel upload';\n",
              "  const cancelPromise = new Promise((resolve) => {\n",
              "    cancel.onclick = () => {\n",
              "      resolve(null);\n",
              "    };\n",
              "  });\n",
              "\n",
              "  // Wait for the user to pick the files.\n",
              "  const files = yield {\n",
              "    promise: Promise.race([pickedPromise, cancelPromise]),\n",
              "    response: {\n",
              "      action: 'starting',\n",
              "    }\n",
              "  };\n",
              "\n",
              "  cancel.remove();\n",
              "\n",
              "  // Disable the input element since further picks are not allowed.\n",
              "  inputElement.disabled = true;\n",
              "\n",
              "  if (!files) {\n",
              "    return {\n",
              "      response: {\n",
              "        action: 'complete',\n",
              "      }\n",
              "    };\n",
              "  }\n",
              "\n",
              "  for (const file of files) {\n",
              "    const li = document.createElement('li');\n",
              "    li.append(span(file.name, {fontWeight: 'bold'}));\n",
              "    li.append(span(\n",
              "        `(${file.type || 'n/a'}) - ${file.size} bytes, ` +\n",
              "        `last modified: ${\n",
              "            file.lastModifiedDate ? file.lastModifiedDate.toLocaleDateString() :\n",
              "                                    'n/a'} - `));\n",
              "    const percent = span('0% done');\n",
              "    li.appendChild(percent);\n",
              "\n",
              "    outputElement.appendChild(li);\n",
              "\n",
              "    const fileDataPromise = new Promise((resolve) => {\n",
              "      const reader = new FileReader();\n",
              "      reader.onload = (e) => {\n",
              "        resolve(e.target.result);\n",
              "      };\n",
              "      reader.readAsArrayBuffer(file);\n",
              "    });\n",
              "    // Wait for the data to be ready.\n",
              "    let fileData = yield {\n",
              "      promise: fileDataPromise,\n",
              "      response: {\n",
              "        action: 'continue',\n",
              "      }\n",
              "    };\n",
              "\n",
              "    // Use a chunked sending to avoid message size limits. See b/62115660.\n",
              "    let position = 0;\n",
              "    do {\n",
              "      const length = Math.min(fileData.byteLength - position, MAX_PAYLOAD_SIZE);\n",
              "      const chunk = new Uint8Array(fileData, position, length);\n",
              "      position += length;\n",
              "\n",
              "      const base64 = btoa(String.fromCharCode.apply(null, chunk));\n",
              "      yield {\n",
              "        response: {\n",
              "          action: 'append',\n",
              "          file: file.name,\n",
              "          data: base64,\n",
              "        },\n",
              "      };\n",
              "\n",
              "      let percentDone = fileData.byteLength === 0 ?\n",
              "          100 :\n",
              "          Math.round((position / fileData.byteLength) * 100);\n",
              "      percent.textContent = `${percentDone}% done`;\n",
              "\n",
              "    } while (position < fileData.byteLength);\n",
              "  }\n",
              "\n",
              "  // All done.\n",
              "  yield {\n",
              "    response: {\n",
              "      action: 'complete',\n",
              "    }\n",
              "  };\n",
              "}\n",
              "\n",
              "scope.google = scope.google || {};\n",
              "scope.google.colab = scope.google.colab || {};\n",
              "scope.google.colab._files = {\n",
              "  _uploadFiles,\n",
              "  _uploadFilesContinue,\n",
              "};\n",
              "})(self);\n",
              "</script> "
            ]
          },
          "metadata": {}
        },
        {
          "output_type": "stream",
          "name": "stdout",
          "text": [
            "Saving classrooms.csv to classrooms.csv\n",
            "Saving courses.csv to courses.csv\n",
            "Saving instructors.csv to instructors.csv\n",
            "Saving schedule.csv to schedule.csv\n",
            "Saving students.csv to students.csv\n",
            "Saving timeslots.csv to timeslots.csv\n"
          ]
        }
      ],
      "source": [
        "from google.colab import files\n",
        "uploaded = files.upload()  # Prompts you to select files from your PC\n"
      ]
    },
    {
      "cell_type": "code",
      "source": [
        "import pandas as pd\n",
        "\n",
        "dataframes = {}\n",
        "for filename in uploaded.keys():\n",
        "    dataframes[filename] = pd.read_csv(filename)"
      ],
      "metadata": {
        "id": "-6vDcOuF7T0A"
      },
      "execution_count": null,
      "outputs": []
    },
    {
      "cell_type": "markdown",
      "source": [
        "Here is the class room dataset we are assuming this classes are for scheduling  instructors to teach Courses.This dataset contains classroom_id,building_name,room_number,capacity,room_type."
      ],
      "metadata": {
        "id": "Qlid1n6UIUkq"
      }
    },
    {
      "cell_type": "code",
      "source": [
        "# View the first few rows of a specific DataFrame\n",
        "print(dataframes['classrooms.csv'].head(33))\n",
        "print(dataframes['classrooms.csv'].describe())\n",
        "print(dataframes['classrooms.csv'].info())"
      ],
      "metadata": {
        "colab": {
          "base_uri": "https://localhost:8080/"
        },
        "id": "n1nqhPav7tOH",
        "outputId": "31eb272f-a869-4265-beca-58860e58deb9"
      },
      "execution_count": null,
      "outputs": [
        {
          "output_type": "stream",
          "name": "stdout",
          "text": [
            "    classroom_id building_name  room_number  capacity     room_type\n",
            "0              1             A          305        35  Lecture Hall\n",
            "1              2             K          144        24     Classroom\n",
            "2              3             B          710        46     Classroom\n",
            "3              4             A          541        30     Classroom\n",
            "4              5             I          747        35  Lecture Hall\n",
            "5              6             L          231        38           Lab\n",
            "6              7             F          502        43     Classroom\n",
            "7              8             B          267        41  Lecture Hall\n",
            "8              9             J          627        44           Lab\n",
            "9             10             G          834        42     Classroom\n",
            "10            11             G          203        24     Classroom\n",
            "11            12             E          524        29  Lecture Hall\n",
            "12            13             F          727        27     Classroom\n",
            "13            14             D          836        24           Lab\n",
            "14            15             E          663        40     Classroom\n",
            "15            16             K          793        46     Classroom\n",
            "16            17             C          403        37           Lab\n",
            "17            18             H          198        23           Lab\n",
            "18            19             E          460        36           Lab\n",
            "19            20             E          665        26  Lecture Hall\n",
            "20            21             C          660        24           Lab\n",
            "21            22             L          958        38           Lab\n",
            "22            23             A          600        21     Classroom\n",
            "23            24             E          860        30  Lecture Hall\n",
            "24            25             D          773        29  Lecture Hall\n",
            "25            26             L          933        22           Lab\n",
            "26            27             A          716        44           Lab\n",
            "27            28             E          707        25           Lab\n",
            "28            29             D          168        36           Lab\n",
            "29            30             F          735        45     Classroom\n",
            "       classroom_id  room_number   capacity\n",
            "count     30.000000    30.000000  30.000000\n",
            "mean      15.500000   583.000000  33.466667\n",
            "std        8.803408   242.559769   8.286813\n",
            "min        1.000000   144.000000  21.000000\n",
            "25%        8.250000   417.250000  25.250000\n",
            "50%       15.500000   661.500000  35.000000\n",
            "75%       22.750000   744.000000  40.750000\n",
            "max       30.000000   958.000000  46.000000\n",
            "<class 'pandas.core.frame.DataFrame'>\n",
            "RangeIndex: 30 entries, 0 to 29\n",
            "Data columns (total 5 columns):\n",
            " #   Column         Non-Null Count  Dtype \n",
            "---  ------         --------------  ----- \n",
            " 0   classroom_id   30 non-null     int64 \n",
            " 1   building_name  30 non-null     object\n",
            " 2   room_number    30 non-null     int64 \n",
            " 3   capacity       30 non-null     int64 \n",
            " 4   room_type      30 non-null     object\n",
            "dtypes: int64(3), object(2)\n",
            "memory usage: 1.3+ KB\n",
            "None\n"
          ]
        }
      ]
    },
    {
      "cell_type": "markdown",
      "source": [
        "Here is the courses dataset .It contains Course_id,Course_name,department,credits and description."
      ],
      "metadata": {
        "id": "YKdeCSG0uI0M"
      }
    },
    {
      "cell_type": "code",
      "source": [
        "print(dataframes['courses.csv'].head(33))\n",
        "print(dataframes['courses.csv'].describe())\n",
        "print(dataframes['courses.csv'].info())"
      ],
      "metadata": {
        "colab": {
          "base_uri": "https://localhost:8080/"
        },
        "id": "1h-GW4PN-C5P",
        "outputId": "45255cf1-cca0-4a72-e6a3-4b928a8b7527"
      },
      "execution_count": null,
      "outputs": [
        {
          "output_type": "stream",
          "name": "stdout",
          "text": [
            "    course_id                                        course_name  \\\n",
            "0           1                          Expanded web-enabled core   \n",
            "1           2                     Cross-group tertiary algorithm   \n",
            "2           3                    Synergized secondary throughput   \n",
            "3           4                   Object-based impactful groupware   \n",
            "4           5                     Visionary leadingedge alliance   \n",
            "5           6           Programmable secondary pricing structure   \n",
            "6           7                    Cross-platform national adapter   \n",
            "7           8                      Organized background forecast   \n",
            "8           9                De-engineered optimizing complexity   \n",
            "9          10                       Diverse zero-defect protocol   \n",
            "10         11              Business-focused executive encryption   \n",
            "11         12                     Focused leadingedge task-force   \n",
            "12         13         Secured secondary Graphical User Interface   \n",
            "13         14        Function-based multimedia pricing structure   \n",
            "14         15                       Adaptive foreground protocol   \n",
            "15         16         De-engineered systematic pricing structure   \n",
            "16         17              Pre-emptive methodical superstructure   \n",
            "17         18  Re-contextualized web-enabled process improvement   \n",
            "18         19                    User-centric maximized firmware   \n",
            "19         20        Mandatory impactful artificial intelligence   \n",
            "20         21                    Advanced maximized productivity   \n",
            "21         22                    User-friendly global neural-net   \n",
            "\n",
            "                 department  credits  \\\n",
            "0                 Chemistry        2   \n",
            "1    Mechanical Engineering        1   \n",
            "2    Healthcare Informatics        1   \n",
            "3               Mathematics        3   \n",
            "4               Engineering        4   \n",
            "5    Healthcare Informatics        1   \n",
            "6   Business Administration        3   \n",
            "7   Business Administration        3   \n",
            "8    Mechanical Engineering        3   \n",
            "9                 Chemistry        3   \n",
            "10   Healthcare Informatics        4   \n",
            "11         Media Technology        3   \n",
            "12                  Physics        3   \n",
            "13               Management        3   \n",
            "14                Chemistry        1   \n",
            "15         Computer Science        3   \n",
            "16                  Physics        3   \n",
            "17         Computer Science        2   \n",
            "18                Chemistry        1   \n",
            "19         Media Technology        2   \n",
            "20   Healthcare Informatics        2   \n",
            "21                Chemistry        2   \n",
            "\n",
            "                                          description  \n",
            "0   Approach themselves crime ground final which a...  \n",
            "1   Do player light black system instead. Everythi...  \n",
            "2   Official seek candidate toward really. Throw s...  \n",
            "3   Suddenly concern report choice benefit behavio...  \n",
            "4   Game grow catch bill. Now know evidence be foo...  \n",
            "5   Five face our. Because expect animal though di...  \n",
            "6   Case should defense such fund. Law exactly pro...  \n",
            "7   Including bank find their scientist guess cons...  \n",
            "8   Including remain reality carry because. Centur...  \n",
            "9   Region strong a school son section. Trip langu...  \n",
            "10  Clear weight world after change citizen. Can o...  \n",
            "11  Kind pull peace picture. Condition land agreem...  \n",
            "12  Also size really serious. Candidate audience d...  \n",
            "13  Recent consumer free various politics. Anyone ...  \n",
            "14  Help business media stock. Begin adult speak h...  \n",
            "15  Mother network performance relate. Participant...  \n",
            "16  Order financial teach church receive family. T...  \n",
            "17  Push do field popular. Partner relationship si...  \n",
            "18  Produce capital point mouth we administration....  \n",
            "19  Those nice region story discuss set. Rock phon...  \n",
            "20  Official start upon hospital federal see. Most...  \n",
            "21  About story investment run get. Room style me ...  \n",
            "       course_id    credits\n",
            "count  22.000000  22.000000\n",
            "mean   11.500000   2.409091\n",
            "std     6.493587   0.959121\n",
            "min     1.000000   1.000000\n",
            "25%     6.250000   2.000000\n",
            "50%    11.500000   3.000000\n",
            "75%    16.750000   3.000000\n",
            "max    22.000000   4.000000\n",
            "<class 'pandas.core.frame.DataFrame'>\n",
            "RangeIndex: 22 entries, 0 to 21\n",
            "Data columns (total 5 columns):\n",
            " #   Column       Non-Null Count  Dtype \n",
            "---  ------       --------------  ----- \n",
            " 0   course_id    22 non-null     int64 \n",
            " 1   course_name  22 non-null     object\n",
            " 2   department   22 non-null     object\n",
            " 3   credits      22 non-null     int64 \n",
            " 4   description  22 non-null     object\n",
            "dtypes: int64(2), object(3)\n",
            "memory usage: 1008.0+ bytes\n",
            "None\n"
          ]
        }
      ]
    },
    {
      "cell_type": "markdown",
      "source": [
        "Here is the instructors data set it contains instructor_id,first_name,last_name,email_id,phone_number,department"
      ],
      "metadata": {
        "id": "v-F7o9Hxxv0k"
      }
    },
    {
      "cell_type": "code",
      "source": [
        "print(dataframes['instructors.csv'].head(33))\n",
        "print(dataframes['instructors.csv'].describe())\n",
        "print(dataframes['instructors.csv'].info())\n",
        "\n"
      ],
      "metadata": {
        "colab": {
          "base_uri": "https://localhost:8080/"
        },
        "id": "GueUZldv-8PR",
        "outputId": "8df86ad6-598d-4f58-fc32-bad4d068afeb"
      },
      "execution_count": null,
      "outputs": [
        {
          "output_type": "stream",
          "name": "stdout",
          "text": [
            "                           instructor_id   first_name last_name  \\\n",
            "0   6ddac491-3bfa-420a-8098-f3c741f530b6     Danielle     Ponce   \n",
            "1   c3453dc3-772c-4d3b-b535-e058788237ed      Kenneth   Bradley   \n",
            "2   55a493f1-a88a-4fe2-b666-b93388223926      William    Gamble   \n",
            "3   8eb8ab26-579c-4927-8866-9f0cfb37824a       Willie      Ruiz   \n",
            "4   7ceb34df-c5cd-4a6d-bbbd-ba393535b9d2        Shawn     Potts   \n",
            "5   d7e101e3-1c37-4827-872a-2a9e7994aaab        Andre    Mercer   \n",
            "6   295c30fe-615a-4769-bade-21c7e3e975a9      Cynthia    Miller   \n",
            "7   cd3a4bbc-f36c-4e3d-9158-9a39dcff7644  Christopher    Sutton   \n",
            "8   2f638a13-eb24-4d61-ad54-7aaf0b822823         Eric       Lee   \n",
            "9   0be1929c-a780-4078-9e98-6df4cf99c936      Heather    Molina   \n",
            "10  c3c774e8-72c0-43bf-8075-97856dc04866     Courtney      Ware   \n",
            "11  59424c88-808c-4285-b95a-607928e016a1        Brady    Morris   \n",
            "12  cab58cac-d2f7-4d2b-bf0b-a391c1d0cb22        Linda  Thompson   \n",
            "13  c8a0eed4-ccd5-46fc-8b97-64b89728d342       Andrew    Patton   \n",
            "14  e1cf4dad-91e9-442f-857c-910eccf92228       Evelyn     Lewis   \n",
            "15  e09c188d-aea7-4cf2-9bb6-6eed739db033       Alexis    Brooks   \n",
            "16  e4c1ffc2-23bf-4bbc-958a-758263a0dd67       Angela     Myers   \n",
            "17  fc70f172-e0d8-4202-a83b-a8d6cc75de10      Charles    Sexton   \n",
            "18  0eb47436-5e7e-4cba-99f5-fad4a55378c2      Richard     Jones   \n",
            "19  df3e4352-c037-4293-aeb8-74b7aae6fb8a        Randy    Miller   \n",
            "20  61b6a185-51b2-47f0-bfa2-7c6615e9e145        James    Walton   \n",
            "21  2d1f121d-f3ba-48f9-aff2-b38da7db30cf        Bruce    Steele   \n",
            "22  449de61b-f2b5-406f-8445-17b960996d0a        Craig    Haynes   \n",
            "23  cff4ee54-8789-46e5-a995-15c0dea35275         Mary    Jordan   \n",
            "24  aec9a7a7-c8be-461b-8047-f0c97726edf1          Amy   Michael   \n",
            "25  309c4ad8-2776-4955-b1b5-8ab5409090ad       Alicia    Rivera   \n",
            "26  d3f82f56-4d74-4c26-a4c7-d20f153383cb        James      Cole   \n",
            "27  57a87455-1a19-4d48-90c9-bd9040670f85      Michael     Kelly   \n",
            "28  ba2adea1-5399-4c45-9c94-9f26f726f62e    Christian      Hall   \n",
            "29  1a544d73-a68c-4d6c-8d83-98d999716ab5      Jeffery    Romero   \n",
            "30  79463069-f838-4edd-9438-cdc4c95e75a2        Susan     Brown   \n",
            "31  d372a3ee-4ff5-48df-a5f2-7da725570f5e      Kathryn      Wong   \n",
            "32  c0969d1b-26f7-4e83-9b27-3a4a0551f760         Ryan    Watson   \n",
            "\n",
            "                              email           phone_number  \\\n",
            "0   franklinchristopher@example.com  001-743-685-3222x9293   \n",
            "1            mitchell74@example.org       459.632.4543x037   \n",
            "2               htorres@example.org           219.812.8147   \n",
            "3               diane60@example.net           808-846-2697   \n",
            "4                lori31@example.org   +1-493-526-3451x7250   \n",
            "5       robinsonrichard@example.com             3388337240   \n",
            "6          davisjessica@example.org      204-859-8026x3660   \n",
            "7             haleywood@example.net           775-271-3735   \n",
            "8            heathdavid@example.com     918-865-9107x93775   \n",
            "9                mpayne@example.org          (980)570-0598   \n",
            "10              imiller@example.org   001-942-883-2391x563   \n",
            "11              james17@example.net    (522)687-7280x55549   \n",
            "12            erichards@example.net   +1-598-597-5896x9086   \n",
            "13       hannahphillips@example.net          (329)372-1614   \n",
            "14             ebennett@example.net    +1-284-461-3036x159   \n",
            "15               fsmith@example.com        +1-751-835-1219   \n",
            "16           bowenjames@example.com      279-322-0736x9928   \n",
            "17      williamskatrina@example.org    (862)256-1107x54780   \n",
            "18             justin54@example.org          (883)757-8577   \n",
            "19           robertlowe@example.com             9048003305   \n",
            "20             gjackson@example.com       738.776.5793x940   \n",
            "21      thompsonpatrick@example.org     (629)466-0043x0172   \n",
            "22              wprince@example.org      (686)465-9664x407   \n",
            "23          justinallen@example.org      300-421-1326x8799   \n",
            "24       michellecortez@example.org           362.446.5401   \n",
            "25          stephanie06@example.org       001-262-801-8172   \n",
            "26              becky48@example.org     256.745.2105x70146   \n",
            "27                  vle@example.net       402-605-0966x355   \n",
            "28            timothy16@example.net          (386)430-5819   \n",
            "29            jeffrey49@example.org           924.682.7480   \n",
            "30    margarethernandez@example.org    +1-302-470-2973x533   \n",
            "31             pfarrell@example.com      756.697.3459x1355   \n",
            "32          madisonhunt@example.org        +1-993-926-3088   \n",
            "\n",
            "                 department  \n",
            "0          Computer Science  \n",
            "1               Mathematics  \n",
            "2          Media Technology  \n",
            "3    Healthcare Informatics  \n",
            "4                 Chemistry  \n",
            "5   Business Administration  \n",
            "6                 Chemistry  \n",
            "7                 Chemistry  \n",
            "8                 Chemistry  \n",
            "9                Management  \n",
            "10         Computer Science  \n",
            "11               Management  \n",
            "12   Healthcare Informatics  \n",
            "13   Mechanical Engineering  \n",
            "14  Business Administration  \n",
            "15   Healthcare Informatics  \n",
            "16                  Physics  \n",
            "17  Business Administration  \n",
            "18              Mathematics  \n",
            "19              Engineering  \n",
            "20         Computer Science  \n",
            "21   Healthcare Informatics  \n",
            "22  Business Administration  \n",
            "23         Computer Science  \n",
            "24              Mathematics  \n",
            "25   Healthcare Informatics  \n",
            "26               Management  \n",
            "27                  Physics  \n",
            "28               Management  \n",
            "29              Mathematics  \n",
            "30              Engineering  \n",
            "31              Mathematics  \n",
            "32               Management  \n",
            "                               instructor_id first_name last_name  \\\n",
            "count                                     50         50        50   \n",
            "unique                                    50         44        48   \n",
            "top     6ddac491-3bfa-420a-8098-f3c741f530b6      James    Miller   \n",
            "freq                                       1          3         2   \n",
            "\n",
            "                                  email           phone_number   department  \n",
            "count                                50                     50           50  \n",
            "unique                               50                     50           10  \n",
            "top     franklinchristopher@example.com  001-743-685-3222x9293  Mathematics  \n",
            "freq                                  1                      1            7  \n",
            "<class 'pandas.core.frame.DataFrame'>\n",
            "RangeIndex: 50 entries, 0 to 49\n",
            "Data columns (total 6 columns):\n",
            " #   Column         Non-Null Count  Dtype \n",
            "---  ------         --------------  ----- \n",
            " 0   instructor_id  50 non-null     object\n",
            " 1   first_name     50 non-null     object\n",
            " 2   last_name      50 non-null     object\n",
            " 3   email          50 non-null     object\n",
            " 4   phone_number   50 non-null     object\n",
            " 5   department     50 non-null     object\n",
            "dtypes: object(6)\n",
            "memory usage: 2.5+ KB\n",
            "None\n"
          ]
        }
      ]
    },
    {
      "cell_type": "markdown",
      "source": [
        "what courses instructors are teaching?"
      ],
      "metadata": {
        "id": "Gdfc6onDj_Ft"
      }
    },
    {
      "cell_type": "code",
      "source": [
        "print(dataframes['schedule.csv'].head(33))\n",
        "print(dataframes['schedule.csv'].describe())\n",
        "print(dataframes['schedule.csv'].info())"
      ],
      "metadata": {
        "colab": {
          "base_uri": "https://localhost:8080/"
        },
        "id": "eCO4KP7sAR19",
        "outputId": "f6e6f4fb-cad8-496f-bd6a-73233131b3b3"
      },
      "execution_count": null,
      "outputs": [
        {
          "output_type": "stream",
          "name": "stdout",
          "text": [
            "                              student_id  course_id  \\\n",
            "0   2facd9b7-5ed9-4e51-90bd-629e3f4286d1         11   \n",
            "1   2facd9b7-5ed9-4e51-90bd-629e3f4286d1         22   \n",
            "2   2facd9b7-5ed9-4e51-90bd-629e3f4286d1          2   \n",
            "3   2facd9b7-5ed9-4e51-90bd-629e3f4286d1         16   \n",
            "4   2facd9b7-5ed9-4e51-90bd-629e3f4286d1         21   \n",
            "5   742bfaf3-68e9-4b41-85f3-1685751eda90         20   \n",
            "6   742bfaf3-68e9-4b41-85f3-1685751eda90          4   \n",
            "7   742bfaf3-68e9-4b41-85f3-1685751eda90          1   \n",
            "8   742bfaf3-68e9-4b41-85f3-1685751eda90          8   \n",
            "9   6b97e0b2-327d-4b55-84b7-b77c517fc087         16   \n",
            "10  6b97e0b2-327d-4b55-84b7-b77c517fc087         17   \n",
            "11  6b97e0b2-327d-4b55-84b7-b77c517fc087         20   \n",
            "12  6b97e0b2-327d-4b55-84b7-b77c517fc087         10   \n",
            "13  6b97e0b2-327d-4b55-84b7-b77c517fc087          1   \n",
            "14  f88fe06a-26db-48b2-8096-66e000259bbf         15   \n",
            "15  e8bf1aee-c82e-422f-b7dc-8a3cf7d1ec2b         14   \n",
            "16  e8bf1aee-c82e-422f-b7dc-8a3cf7d1ec2b          1   \n",
            "17  f32086f2-c543-4575-a414-6602811c0a9f         18   \n",
            "18  f32086f2-c543-4575-a414-6602811c0a9f          3   \n",
            "19  f32086f2-c543-4575-a414-6602811c0a9f         15   \n",
            "20  40e5475b-979f-479b-8104-7e5b106b8d26         19   \n",
            "21  40e5475b-979f-479b-8104-7e5b106b8d26         18   \n",
            "22  40e5475b-979f-479b-8104-7e5b106b8d26          6   \n",
            "23  0daffcaf-9e60-4ce2-921d-54d5cc46149e          9   \n",
            "24  0daffcaf-9e60-4ce2-921d-54d5cc46149e         15   \n",
            "25  0daffcaf-9e60-4ce2-921d-54d5cc46149e          3   \n",
            "26  0daffcaf-9e60-4ce2-921d-54d5cc46149e          2   \n",
            "27  0daffcaf-9e60-4ce2-921d-54d5cc46149e         19   \n",
            "28  c1dd54ba-2b93-423a-b50f-009b0f6718d5         12   \n",
            "29  c1dd54ba-2b93-423a-b50f-009b0f6718d5         22   \n",
            "30  16b18bdf-0831-4bc9-8ef5-06f4e00353f7         18   \n",
            "31  16b18bdf-0831-4bc9-8ef5-06f4e00353f7          2   \n",
            "32  16b18bdf-0831-4bc9-8ef5-06f4e00353f7         12   \n",
            "\n",
            "                           instructor_id  classroom_id  timeslot_id  \n",
            "0   6ddac491-3bfa-420a-8098-f3c741f530b6             1           33  \n",
            "1   cff4ee54-8789-46e5-a995-15c0dea35275            11           14  \n",
            "2   cd3a4bbc-f36c-4e3d-9158-9a39dcff7644            13           69  \n",
            "3   6ddac491-3bfa-420a-8098-f3c741f530b6            22           22  \n",
            "4   449de61b-f2b5-406f-8445-17b960996d0a            20           47  \n",
            "5   57a87455-1a19-4d48-90c9-bd9040670f85             9            4  \n",
            "6   a12b297c-6ca7-436c-8318-08b5a05e1eea             1           48  \n",
            "7   ba2adea1-5399-4c45-9c94-9f26f726f62e            18           15  \n",
            "8   79463069-f838-4edd-9438-cdc4c95e75a2            24           71  \n",
            "9   8f8ceb3d-7d6a-46cb-8d24-03c5cee108c1            25           54  \n",
            "10  bf20d0e5-4b79-481a-92d6-3b159ce4d4a0            22           83  \n",
            "11  61b6a185-51b2-47f0-bfa2-7c6615e9e145            21           94  \n",
            "12  d372a3ee-4ff5-48df-a5f2-7da725570f5e            14           84  \n",
            "13  ed65e55c-cdd7-4672-bfd0-37b3a5afd703             4           33  \n",
            "14  bf20d0e5-4b79-481a-92d6-3b159ce4d4a0            29           93  \n",
            "15  b53f72f1-d162-4f47-a6af-c538db450833            23            6  \n",
            "16  fe8c95dc-f314-472c-a317-83d7bb76fbc9             8            8  \n",
            "17  61b6a185-51b2-47f0-bfa2-7c6615e9e145            14           61  \n",
            "18  7fa4b44f-6167-4bfe-b42b-5494a85f17c0            22           61  \n",
            "19  55a493f1-a88a-4fe2-b666-b93388223926            22           66  \n",
            "20  aec9a7a7-c8be-461b-8047-f0c97726edf1            13           64  \n",
            "21  fe8c95dc-f314-472c-a317-83d7bb76fbc9            22           45  \n",
            "22  c3c774e8-72c0-43bf-8075-97856dc04866            24           30  \n",
            "23  59424c88-808c-4285-b95a-607928e016a1             4           19  \n",
            "24  2086fb93-7036-4127-b46f-14b11794fd56            12           26  \n",
            "25  8eb8ab26-579c-4927-8866-9f0cfb37824a            28           66  \n",
            "26  ba2adea1-5399-4c45-9c94-9f26f726f62e             6           76  \n",
            "27  61b6a185-51b2-47f0-bfa2-7c6615e9e145            24           30  \n",
            "28  a12b297c-6ca7-436c-8318-08b5a05e1eea            10           16  \n",
            "29  21f1397e-1a61-401a-bc67-1e74523bf8d8            20           35  \n",
            "30  ba2adea1-5399-4c45-9c94-9f26f726f62e             6           54  \n",
            "31  a12b297c-6ca7-436c-8318-08b5a05e1eea             9            4  \n",
            "32  6ddac491-3bfa-420a-8098-f3c741f530b6            25            1  \n",
            "         course_id  classroom_id  timeslot_id\n",
            "count  9082.000000   9082.000000  9082.000000\n",
            "mean     11.511451     15.435036    50.232438\n",
            "std       6.370212      8.631196    28.821560\n",
            "min       1.000000      1.000000     1.000000\n",
            "25%       6.000000      8.000000    25.000000\n",
            "50%      11.000000     15.000000    50.000000\n",
            "75%      17.000000     23.000000    75.000000\n",
            "max      22.000000     30.000000   100.000000\n",
            "<class 'pandas.core.frame.DataFrame'>\n",
            "RangeIndex: 9082 entries, 0 to 9081\n",
            "Data columns (total 5 columns):\n",
            " #   Column         Non-Null Count  Dtype \n",
            "---  ------         --------------  ----- \n",
            " 0   student_id     9082 non-null   object\n",
            " 1   course_id      9082 non-null   int64 \n",
            " 2   instructor_id  9082 non-null   object\n",
            " 3   classroom_id   9082 non-null   int64 \n",
            " 4   timeslot_id    9082 non-null   int64 \n",
            "dtypes: int64(3), object(2)\n",
            "memory usage: 354.9+ KB\n",
            "None\n"
          ]
        }
      ]
    },
    {
      "cell_type": "code",
      "source": [],
      "metadata": {
        "id": "2bNgSXME3nO8"
      },
      "execution_count": null,
      "outputs": []
    },
    {
      "cell_type": "code",
      "source": [
        "print(dataframes['timeslots.csv'].head(33))\n",
        "print(dataframes['timeslots.csv'].describe())\n",
        "print(dataframes['timeslots.csv'].info())"
      ],
      "metadata": {
        "colab": {
          "base_uri": "https://localhost:8080/"
        },
        "id": "kvi8Hc_KH8CO",
        "outputId": "51689fa2-082b-4c9d-9136-28b396947a26"
      },
      "execution_count": null,
      "outputs": [
        {
          "output_type": "stream",
          "name": "stdout",
          "text": [
            "    timeslot_id        day start_time end_time\n",
            "0             1  Wednesday      15:00    19:00\n",
            "1             2     Friday      13:00    12:00\n",
            "2             3   Thursday      13:00    17:00\n",
            "3             4     Monday      16:00    15:00\n",
            "4             5     Friday      10:00    11:00\n",
            "5             6    Tuesday      15:00    17:00\n",
            "6             7  Wednesday      14:00    09:00\n",
            "7             8   Thursday      10:00    13:00\n",
            "8             9     Friday      11:00    15:00\n",
            "9            10     Friday      15:00    09:00\n",
            "10           11     Monday      11:00    15:00\n",
            "11           12    Tuesday      16:00    11:00\n",
            "12           13  Wednesday      08:00    19:00\n",
            "13           14     Monday      15:00    18:00\n",
            "14           15     Friday      08:00    12:00\n",
            "15           16   Thursday      08:00    18:00\n",
            "16           17     Friday      13:00    10:00\n",
            "17           18     Friday      08:00    11:00\n",
            "18           19   Thursday      16:00    18:00\n",
            "19           20  Wednesday      18:00    15:00\n",
            "20           21     Monday      09:00    14:00\n",
            "21           22    Tuesday      15:00    19:00\n",
            "22           23   Thursday      18:00    10:00\n",
            "23           24    Tuesday      10:00    18:00\n",
            "24           25   Thursday      12:00    18:00\n",
            "25           26   Thursday      15:00    19:00\n",
            "26           27     Friday      18:00    09:00\n",
            "27           28     Monday      10:00    17:00\n",
            "28           29  Wednesday      13:00    17:00\n",
            "29           30   Thursday      18:00    16:00\n",
            "30           31   Thursday      17:00    18:00\n",
            "31           32  Wednesday      11:00    12:00\n",
            "32           33  Wednesday      11:00    12:00\n",
            "       timeslot_id\n",
            "count   100.000000\n",
            "mean     50.500000\n",
            "std      29.011492\n",
            "min       1.000000\n",
            "25%      25.750000\n",
            "50%      50.500000\n",
            "75%      75.250000\n",
            "max     100.000000\n",
            "<class 'pandas.core.frame.DataFrame'>\n",
            "RangeIndex: 100 entries, 0 to 99\n",
            "Data columns (total 4 columns):\n",
            " #   Column       Non-Null Count  Dtype \n",
            "---  ------       --------------  ----- \n",
            " 0   timeslot_id  100 non-null    int64 \n",
            " 1   day          100 non-null    object\n",
            " 2   start_time   100 non-null    object\n",
            " 3   end_time     100 non-null    object\n",
            "dtypes: int64(1), object(3)\n",
            "memory usage: 3.2+ KB\n",
            "None\n"
          ]
        }
      ]
    },
    {
      "cell_type": "code",
      "source": [
        "# Count the number of instructors in each department\n",
        "instructor_count_by_department = dataframes['instructors.csv'].groupby('department')['instructor_id'].count().reset_index()\n",
        "\n",
        "# Rename the columns for clarity\n",
        "instructor_count_by_department.columns = ['Department', 'Instructor Count']\n",
        "\n",
        "print(instructor_count_by_department)\n",
        "\n"
      ],
      "metadata": {
        "colab": {
          "base_uri": "https://localhost:8080/"
        },
        "id": "KrM0gz1yZXgo",
        "outputId": "eddbe009-37e3-445c-acfc-b3735401bb0b"
      },
      "execution_count": null,
      "outputs": [
        {
          "output_type": "stream",
          "name": "stdout",
          "text": [
            "                Department  Instructor Count\n",
            "0  Business Administration                 7\n",
            "1                Chemistry                 6\n",
            "2         Computer Science                 5\n",
            "3              Engineering                 4\n",
            "4   Healthcare Informatics                 6\n",
            "5               Management                 7\n",
            "6              Mathematics                 7\n",
            "7   Mechanical Engineering                 1\n",
            "8         Media Technology                 3\n",
            "9                  Physics                 4\n"
          ]
        }
      ]
    },
    {
      "cell_type": "code",
      "source": [
        "\n",
        "\n",
        "\n",
        "# Group instructors by department and list their names using a list for the column selection\n",
        "instructors_by_department =dataframes['instructors.csv'].groupby('department')[['first_name']].agg(lambda x: ', '.join(x)).reset_index()\n",
        "\n",
        "# Rename the columns for clarity\n",
        "instructors_by_department.columns = ['Department', 'Instructors']\n",
        "\n",
        "print(instructors_by_department)\n"
      ],
      "metadata": {
        "colab": {
          "base_uri": "https://localhost:8080/"
        },
        "id": "BJL5GDrFakNy",
        "outputId": "678e1df8-37bc-49b3-9ff9-3ae9128d8f60"
      },
      "execution_count": null,
      "outputs": [
        {
          "output_type": "stream",
          "name": "stdout",
          "text": [
            "                Department                                        Instructors\n",
            "0  Business Administration  Andre, Evelyn, Charles, Craig, Jerry, Cynthia,...\n",
            "1                Chemistry   Shawn, Cynthia, Christopher, Eric, Daniel, Susan\n",
            "2         Computer Science              Danielle, Courtney, James, Mary, Kyle\n",
            "3              Engineering                     Randy, Susan, Belinda, Maureen\n",
            "4   Healthcare Informatics       Willie, Linda, Alexis, Bruce, Alicia, Briana\n",
            "5               Management  Heather, Brady, James, Christian, Ryan, Mario,...\n",
            "6              Mathematics  Kenneth, Richard, Amy, Jeffery, Kathryn, Chris...\n",
            "7   Mechanical Engineering                                             Andrew\n",
            "8         Media Technology                            William, James, Brandon\n",
            "9                  Physics                     Angela, Michael, Barbara, Ryan\n"
          ]
        }
      ]
    },
    {
      "cell_type": "code",
      "source": [
        "import pandas as pd\n",
        "\n",
        "\n",
        "\n",
        "# Display all courses along with their respective departments\n",
        "print(dataframes['courses.csv'][['course_name', 'department']])\n",
        "\n",
        "# Alternatively, you can group by department to see how many courses belong to each department\n",
        "courses_by_department =dataframes['courses.csv'].groupby('department')['course_id'].count().reset_index()\n",
        "\n",
        "# Rename columns for clarity\n",
        "courses_by_department.columns = ['Department', 'Number of Courses']\n",
        "\n",
        "print(courses_by_department)\n"
      ],
      "metadata": {
        "colab": {
          "base_uri": "https://localhost:8080/"
        },
        "id": "gO0HenvRcWwu",
        "outputId": "7636f184-3b78-47c0-e484-2fd9aa7281ee"
      },
      "execution_count": null,
      "outputs": [
        {
          "output_type": "stream",
          "name": "stdout",
          "text": [
            "                                          course_name               department\n",
            "0                           Expanded web-enabled core                Chemistry\n",
            "1                      Cross-group tertiary algorithm   Mechanical Engineering\n",
            "2                     Synergized secondary throughput   Healthcare Informatics\n",
            "3                    Object-based impactful groupware              Mathematics\n",
            "4                      Visionary leadingedge alliance              Engineering\n",
            "5            Programmable secondary pricing structure   Healthcare Informatics\n",
            "6                     Cross-platform national adapter  Business Administration\n",
            "7                       Organized background forecast  Business Administration\n",
            "8                 De-engineered optimizing complexity   Mechanical Engineering\n",
            "9                        Diverse zero-defect protocol                Chemistry\n",
            "10              Business-focused executive encryption   Healthcare Informatics\n",
            "11                     Focused leadingedge task-force         Media Technology\n",
            "12         Secured secondary Graphical User Interface                  Physics\n",
            "13        Function-based multimedia pricing structure               Management\n",
            "14                       Adaptive foreground protocol                Chemistry\n",
            "15         De-engineered systematic pricing structure         Computer Science\n",
            "16              Pre-emptive methodical superstructure                  Physics\n",
            "17  Re-contextualized web-enabled process improvement         Computer Science\n",
            "18                    User-centric maximized firmware                Chemistry\n",
            "19        Mandatory impactful artificial intelligence         Media Technology\n",
            "20                    Advanced maximized productivity   Healthcare Informatics\n",
            "21                    User-friendly global neural-net                Chemistry\n",
            "                Department  Number of Courses\n",
            "0  Business Administration                  2\n",
            "1                Chemistry                  5\n",
            "2         Computer Science                  2\n",
            "3              Engineering                  1\n",
            "4   Healthcare Informatics                  4\n",
            "5               Management                  1\n",
            "6              Mathematics                  1\n",
            "7   Mechanical Engineering                  2\n",
            "8         Media Technology                  2\n",
            "9                  Physics                  2\n"
          ]
        }
      ]
    },
    {
      "cell_type": "code",
      "source": [
        "# Check for missing values\n",
        "print(dataframes['schedule.csv'].isnull().sum())\n"
      ],
      "metadata": {
        "id": "xnh6ky1D7CNe",
        "colab": {
          "base_uri": "https://localhost:8080/"
        },
        "outputId": "d3cb3c89-eff9-4f76-c161-50949ad90aed"
      },
      "execution_count": null,
      "outputs": [
        {
          "output_type": "stream",
          "name": "stdout",
          "text": [
            "student_id       0\n",
            "course_id        0\n",
            "instructor_id    0\n",
            "classroom_id     0\n",
            "timeslot_id      0\n",
            "dtype: int64\n"
          ]
        }
      ]
    },
    {
      "cell_type": "code",
      "source": [
        "# Check for instructor conflicts (same instructor at the same timeslot)\n",
        "instructor_conflicts = dataframes['schedule.csv'].groupby(['instructor_id','classroom_id','timeslot_id','course_id']).size().reset_index(name='count')\n",
        "instructor_conflicts = instructor_conflicts[instructor_conflicts['count'] > 1]\n",
        "\n",
        "print('Instructor Conflicts:')\n",
        "print(instructor_conflicts)\n"
      ],
      "metadata": {
        "colab": {
          "base_uri": "https://localhost:8080/"
        },
        "id": "EuitbCRHGa8U",
        "outputId": "043b5aa1-0a25-490b-a527-0ae3001a563f"
      },
      "execution_count": null,
      "outputs": [
        {
          "output_type": "stream",
          "name": "stdout",
          "text": [
            "Instructor Conflicts:\n",
            "                             instructor_id  classroom_id  timeslot_id  \\\n",
            "568   12fa2bc8-2060-41f1-a8ce-0ad8dc7c31e6             7           23   \n",
            "744   1a544d73-a68c-4d6c-8d83-98d999716ab5             8           31   \n",
            "909   2086fb93-7036-4127-b46f-14b11794fd56             4           13   \n",
            "917   2086fb93-7036-4127-b46f-14b11794fd56             5           20   \n",
            "2222  55a493f1-a88a-4fe2-b666-b93388223926            15           27   \n",
            "3446  79463069-f838-4edd-9438-cdc4c95e75a2             8           27   \n",
            "4121  80dad91e-02f0-4182-ae63-9bfe710a66b9            28           75   \n",
            "4445  8eb8ab26-579c-4927-8866-9f0cfb37824a            16           40   \n",
            "4737  a12b297c-6ca7-436c-8318-08b5a05e1eea             5            7   \n",
            "5759  c0969d1b-26f7-4e83-9b27-3a4a0551f760            24           82   \n",
            "8745  fc70f172-e0d8-4202-a83b-a8d6cc75de10             5           27   \n",
            "\n",
            "      course_id  count  \n",
            "568          15      2  \n",
            "744           7      2  \n",
            "909           9      2  \n",
            "917          21      2  \n",
            "2222          5      2  \n",
            "3446         15      2  \n",
            "4121         17      2  \n",
            "4445          1      2  \n",
            "4737         16      2  \n",
            "5759         22      2  \n",
            "8745          2      2  \n"
          ]
        }
      ]
    },
    {
      "cell_type": "code",
      "source": [],
      "metadata": {
        "id": "NJcgl5IIRTOz"
      },
      "execution_count": null,
      "outputs": []
    },
    {
      "cell_type": "code",
      "source": [
        "# Check for classroom conflicts (same classroom at the same timeslot)\n",
        "classroom_conflicts = dataframes['schedule.csv'].groupby(['classroom_id', 'timeslot_id']).size().reset_index(name='count')\n",
        "classroom_conflicts = classroom_conflicts[classroom_conflicts['count'] > 1]\n",
        "\n",
        "print('Classroom Conflicts:')\n",
        "print(classroom_conflicts)\n"
      ],
      "metadata": {
        "colab": {
          "base_uri": "https://localhost:8080/"
        },
        "id": "WRfrSM_CGXOC",
        "outputId": "9e68e966-dc75-4579-c84b-0af4faa169bf"
      },
      "execution_count": null,
      "outputs": [
        {
          "output_type": "stream",
          "name": "stdout",
          "text": [
            "Classroom Conflicts:\n",
            "      classroom_id  timeslot_id  count\n",
            "0                1            1      6\n",
            "2                1            3      3\n",
            "3                1            4      4\n",
            "4                1            5      4\n",
            "5                1            6      2\n",
            "...            ...          ...    ...\n",
            "2847            30           94      7\n",
            "2848            30           95      2\n",
            "2849            30           96      2\n",
            "2851            30           98      4\n",
            "2852            30           99      4\n",
            "\n",
            "[2413 rows x 3 columns]\n"
          ]
        }
      ]
    },
    {
      "cell_type": "code",
      "source": [
        "# Load the schedule and timeslot data\n",
        "schedule = pd.read_csv('schedule.csv')\n",
        "timeslots = pd.read_csv('timeslots.csv')\n",
        "\n",
        "# Identify instructor conflicts (same instructor at the same timeslot)\n",
        "instructor_conflicts = schedule.groupby(['instructor_id','course_id', 'classroom_id', 'timeslot_id']).size().reset_index(name='count')\n",
        "instructor_conflicts = instructor_conflicts[instructor_conflicts['count'] > 1]\n",
        "\n",
        "# Function to find the next available timeslot\n",
        "def find_available_timeslot(instructor_id, current_timeslot, classroom_id):\n",
        "    # Find the timeslot that is not already assigned to this instructor\n",
        "    available_timeslots = timeslots[~timeslots['timeslot_id'].isin(\n",
        "        schedule[(schedule['instructor_id'] == instructor_id)]['timeslot_id']\n",
        "    )]\n",
        "\n",
        "    # Return the first available timeslot, or None if no available timeslot\n",
        "    if not available_timeslots.empty:\n",
        "        return available_timeslots.iloc[0]['timeslot_id']\n",
        "    return None\n",
        "\n",
        "# Resolve conflicts by reassigning timeslots or classrooms\n",
        "for idx, conflict in instructor_conflicts.iterrows():\n",
        "    conflicting_instructor = conflict['instructor_id']\n",
        "    conflicting_classroom = conflict['classroom_id']\n",
        "    conflicting_timeslot = conflict['timeslot_id']\n",
        "    conflicting_course = conflict['course_id']\n",
        "\n",
        "    # Find the conflicting rows in the schedule\n",
        "    conflicting_classes = schedule[(schedule['instructor_id'] == conflicting_instructor) &\n",
        "                                   (schedule['timeslot_id'] == conflicting_timeslot)]\n",
        "\n",
        "    # Attempt to resolve conflict by moving one class to a new timeslot\n",
        "    for i, row in conflicting_classes.iterrows():\n",
        "        available_timeslot = find_available_timeslot(conflicting_instructor, conflicting_timeslot, conflicting_classroom,conflicting_course)\n",
        "\n",
        "        # If an available timeslot is found, update the schedule\n",
        "        if available_timeslot is not None:\n",
        "            schedule.loc[i, 'timeslot_id'] = available_timeslot\n",
        "        else:\n",
        "            # If no timeslot is available, try changing the classroom\n",
        "            available_classroom = schedule[(schedule['classroom_id'] != conflicting_classroom)]['classroom_id'].iloc[0]\n",
        "            schedule.loc[i, 'classroom_id'] = available_classroom\n",
        "\n",
        "# Check for remaining conflicts after resolution\n",
        "remaining_conflicts = schedule.groupby(['instructor_id', 'classroom_id', 'timeslot_id','coures_id']).size().reset_index(name='count')\n",
        "remaining_conflicts = remaining_conflicts[remaining_conflicts['count'] > 1]\n",
        "\n",
        "print('Remaining Conflicts After Resolution:')\n",
        "print(remaining_conflicts)\n"
      ],
      "metadata": {
        "colab": {
          "base_uri": "https://localhost:8080/",
          "height": 211
        },
        "id": "ImnXfDNiRUk2",
        "outputId": "41943f10-cec1-4374-f9e2-afe06da1214d"
      },
      "execution_count": null,
      "outputs": [
        {
          "output_type": "error",
          "ename": "TypeError",
          "evalue": "find_available_timeslot() takes 3 positional arguments but 4 were given",
          "traceback": [
            "\u001b[0;31m---------------------------------------------------------------------------\u001b[0m",
            "\u001b[0;31mTypeError\u001b[0m                                 Traceback (most recent call last)",
            "\u001b[0;32m<ipython-input-36-866c41cecb09>\u001b[0m in \u001b[0;36m<cell line: 22>\u001b[0;34m()\u001b[0m\n\u001b[1;32m     32\u001b[0m     \u001b[0;31m# Attempt to resolve conflict by moving one class to a new timeslot\u001b[0m\u001b[0;34m\u001b[0m\u001b[0;34m\u001b[0m\u001b[0m\n\u001b[1;32m     33\u001b[0m     \u001b[0;32mfor\u001b[0m \u001b[0mi\u001b[0m\u001b[0;34m,\u001b[0m \u001b[0mrow\u001b[0m \u001b[0;32min\u001b[0m \u001b[0mconflicting_classes\u001b[0m\u001b[0;34m.\u001b[0m\u001b[0miterrows\u001b[0m\u001b[0;34m(\u001b[0m\u001b[0;34m)\u001b[0m\u001b[0;34m:\u001b[0m\u001b[0;34m\u001b[0m\u001b[0;34m\u001b[0m\u001b[0m\n\u001b[0;32m---> 34\u001b[0;31m         \u001b[0mavailable_timeslot\u001b[0m \u001b[0;34m=\u001b[0m \u001b[0mfind_available_timeslot\u001b[0m\u001b[0;34m(\u001b[0m\u001b[0mconflicting_instructor\u001b[0m\u001b[0;34m,\u001b[0m \u001b[0mconflicting_timeslot\u001b[0m\u001b[0;34m,\u001b[0m \u001b[0mconflicting_classroom\u001b[0m\u001b[0;34m,\u001b[0m\u001b[0mconflicting_course\u001b[0m\u001b[0;34m)\u001b[0m\u001b[0;34m\u001b[0m\u001b[0;34m\u001b[0m\u001b[0m\n\u001b[0m\u001b[1;32m     35\u001b[0m \u001b[0;34m\u001b[0m\u001b[0m\n\u001b[1;32m     36\u001b[0m         \u001b[0;31m# If an available timeslot is found, update the schedule\u001b[0m\u001b[0;34m\u001b[0m\u001b[0;34m\u001b[0m\u001b[0m\n",
            "\u001b[0;31mTypeError\u001b[0m: find_available_timeslot() takes 3 positional arguments but 4 were given"
          ]
        }
      ]
    },
    {
      "cell_type": "markdown",
      "source": [
        "minimizing schedule clashes i.e instructor with same courses and same classrooms , maximizing room and instructor utilization, and ensuring instructors and students schedules are not overloaded.\n",
        "Machine Learning Models:\n",
        "\n",
        "Reinforcement Learning: Having historical data, we can model the scheduling as a reinforcement learning problem, where the agent learns to assign courses to maximize overall satisfaction and minimize conflicts.\n",
        "\n",
        "Clustering Techniques: Group similar courses or instructors to help identify potential conflicts based on past data."
      ],
      "metadata": {
        "id": "ctNhKQrx4qPg"
      }
    }
  ]
}